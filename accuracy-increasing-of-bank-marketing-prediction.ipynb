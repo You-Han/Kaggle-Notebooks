{
 "cells": [
  {
   "cell_type": "markdown",
   "id": "5bc8a105",
   "metadata": {
    "papermill": {
     "duration": 0.022261,
     "end_time": "2022-02-06T14:53:47.282323",
     "exception": false,
     "start_time": "2022-02-06T14:53:47.260062",
     "status": "completed"
    },
    "tags": []
   },
   "source": [
    "### <p style=\"color:blue;\">Table of content\n",
    "[1. Introduction](#1)<br>\n",
    "[2. Loading packages](#2)<br>\n",
    "[3. Loading dataset](#3)<br>\n",
    "[4. Correlation](#4)<br>\n",
    "[5. Features ingeneering](#5)<br>\n",
    "[6. Outliers handeling](#6)<br>\n",
    "[7. Balancing Dataset](#7)<br>\n",
    "[8. Encoding categorical features](#8)<br>\n",
    "[9. Imputing missing values](#9)<br>\n",
    "[10. Build, train, and test model](#10)<br>\n",
    "[11. features importance](#11)<br>\n",
    "    </p>"
   ]
  },
  {
   "cell_type": "markdown",
   "id": "7cf30ecf",
   "metadata": {
    "papermill": {
     "duration": 0.020728,
     "end_time": "2022-02-06T14:53:47.325856",
     "exception": false,
     "start_time": "2022-02-06T14:53:47.305128",
     "status": "completed"
    },
    "tags": []
   },
   "source": [
    "### ***1. <a id=\"1\"></a> Introduction*** <br>\n",
    "<p style=\"font-family:verdana; font-size:140%;\">In this notebook, I am trying to increase the accuracy of Bank Marketing prediction. This dataset has been used in many Kaggle notebooks. The accuracy scores of previous notebooks are between 80% and 97% as far as I know. I reach a prediction accuracy of 98% through outliers values handling, missing data imputation, and dataset balancing. Below is a description of the dataset features provided by the authors:</p>\n",
    "<b>Input variables:</b><br>\n",
    "<b>bank client data</b><br>\n",
    "* 1 - age (numeric)<br>\n",
    "* 2 - job : type of job (categorical: 'admin.','blue-collar','entrepreneur','housemaid','management','retired','self-employed','services','student','technician','unemployed','unknown')<br>\n",
    "* 3 - marital : marital status (categorical: 'divorced','married','single','unknown'; note: 'divorced' means divorced or widowed)\n",
    "* 4 - education (categorical: 'basic.4y','basic.6y','basic.9y','high.school','illiterate','professional.course','university.degree','unknown')<br>\n",
    "* 5 - default: has credit in default? (categorical: 'no','yes','unknown')<br>\n",
    "* 6 - housing: has housing loan? (categorical: 'no','yes','unknown')<br>\n",
    "* 7 - loan: has personal loan? (categorical: 'no','yes','unknown')<br>\n",
    "<b>related with the last contact of the current campaign:</b><br>\n",
    "* 8 - contact: contact communication type (categorical: 'cellular','telephone')<br>\n",
    "* 9 - month: last contact month of year (categorical: 'jan', 'feb', 'mar', ..., 'nov', 'dec')<br>\n",
    "* 10 - day_of_week: last contact day of the week (categorical: 'mon','tue','wed','thu','fri')<br>\n",
    "* 11 - duration: last contact duration, in seconds (numeric). Important note: this attribute highly affects the output target (e.g., if duration=0 then y='no'). Yet, the duration is not known before a call is performed. Also, after the end of the call y is obviously known. Thus, this input should only be included for benchmark purposes and should be discarded if the intention is to have a realistic predictive model.<br>\n",
    "<b>other attributes:</b><br>\n",
    "* 12 - campaign: number of contacts performed during this campaign and for this client (numeric, includes last contact)<br>\n",
    "* 13 - pdays: number of days that passed by after the client was last contacted from a previous campaign (numeric; 999 means client was not previously contacted)<br>\n",
    "* 14 - previous: number of contacts performed before this campaign and for this client (numeric)<br>\n",
    "* 15 - poutcome: outcome of the previous marketing campaign (categorical: 'failure','nonexistent','success')<br>\n",
    "<b>social and economic context attributes </b><br>\n",
    "* 16 - emp.var.rate: employment variation rate - quarterly indicator (numeric)<br>\n",
    "* 17 - cons.price.idx: consumer price index - monthly indicator (numeric)<br>\n",
    "* 18 - cons.conf.idx: consumer confidence index - monthly indicator (numeric)<br>\n",
    "* 19 - euribor3m: euribor 3 month rate - daily indicator (numeric)<br>\n",
    "* 20 - nr.employed: number of employees - quarterly indicator (numeric)<br>\n",
    "\n",
    "<b>Output variable (desired target):</b><br>\n",
    "* 21 - y - has the client subscribed a term deposit? (binary: 'yes','no')<br>"
   ]
  },
  {
   "cell_type": "markdown",
   "id": "f6932f18",
   "metadata": {
    "papermill": {
     "duration": 0.020784,
     "end_time": "2022-02-06T14:53:47.368226",
     "exception": false,
     "start_time": "2022-02-06T14:53:47.347442",
     "status": "completed"
    },
    "tags": []
   },
   "source": [
    "### ***2. <a id=\"2\"></a> Packages Loading***"
   ]
  },
  {
   "cell_type": "code",
   "execution_count": 1,
   "id": "31e3ef33",
   "metadata": {
    "execution": {
     "iopub.execute_input": "2022-02-06T14:53:47.422447Z",
     "iopub.status.busy": "2022-02-06T14:53:47.421810Z",
     "iopub.status.idle": "2022-02-06T14:53:48.727895Z",
     "shell.execute_reply": "2022-02-06T14:53:48.728468Z",
     "shell.execute_reply.started": "2022-02-06T14:52:21.837372Z"
    },
    "papermill": {
     "duration": 1.339519,
     "end_time": "2022-02-06T14:53:48.728797",
     "exception": false,
     "start_time": "2022-02-06T14:53:47.389278",
     "status": "completed"
    },
    "tags": []
   },
   "outputs": [
    {
     "name": "stdout",
     "output_type": "stream",
     "text": [
      "/kaggle/input/bank-marketing/bank-additional-names.txt\n",
      "/kaggle/input/bank-marketing/bank-additional-full.csv\n",
      "/kaggle/input/online-shoppers-purchasing-intention-dataset/online_shoppers_intention.csv\n"
     ]
    }
   ],
   "source": [
    "import numpy as np # linear algebra\n",
    "import pandas as pd # data processing\n",
    "\n",
    "# data visualisation\n",
    "import seaborn as sns\n",
    "import matplotlib.pyplot as plt\n",
    "import matplotlib.ticker as mtick\n",
    "\n",
    "#data encoding, imputing, and model building and testing\n",
    "from sklearn.model_selection import train_test_split\n",
    "from sklearn.metrics import accuracy_score\n",
    "from sklearn.impute import SimpleImputer\n",
    "from sklearn.preprocessing import LabelEncoder\n",
    "import random\n",
    "\n",
    "\n",
    "import os\n",
    "for dirname, _, filenames in os.walk('/kaggle/input'):\n",
    "    for filename in filenames:\n",
    "        print(os.path.join(dirname, filename))"
   ]
  },
  {
   "cell_type": "markdown",
   "id": "a18d1e8c",
   "metadata": {
    "papermill": {
     "duration": 0.02149,
     "end_time": "2022-02-06T14:53:48.772905",
     "exception": false,
     "start_time": "2022-02-06T14:53:48.751415",
     "status": "completed"
    },
    "tags": []
   },
   "source": [
    "### ***3. <a id=\"3\"></a> Dataset loading*** "
   ]
  },
  {
   "cell_type": "code",
   "execution_count": 2,
   "id": "88f55295",
   "metadata": {
    "execution": {
     "iopub.execute_input": "2022-02-06T14:53:48.822416Z",
     "iopub.status.busy": "2022-02-06T14:53:48.821758Z",
     "iopub.status.idle": "2022-02-06T14:53:49.076834Z",
     "shell.execute_reply": "2022-02-06T14:53:49.077406Z",
     "shell.execute_reply.started": "2022-02-06T14:52:23.415737Z"
    },
    "papermill": {
     "duration": 0.282689,
     "end_time": "2022-02-06T14:53:49.077629",
     "exception": false,
     "start_time": "2022-02-06T14:53:48.794940",
     "status": "completed"
    },
    "tags": []
   },
   "outputs": [
    {
     "data": {
      "text/html": [
       "<div>\n",
       "<style scoped>\n",
       "    .dataframe tbody tr th:only-of-type {\n",
       "        vertical-align: middle;\n",
       "    }\n",
       "\n",
       "    .dataframe tbody tr th {\n",
       "        vertical-align: top;\n",
       "    }\n",
       "\n",
       "    .dataframe thead th {\n",
       "        text-align: right;\n",
       "    }\n",
       "</style>\n",
       "<table border=\"1\" class=\"dataframe\">\n",
       "  <thead>\n",
       "    <tr style=\"text-align: right;\">\n",
       "      <th></th>\n",
       "      <th>age</th>\n",
       "      <th>job</th>\n",
       "      <th>marital</th>\n",
       "      <th>education</th>\n",
       "      <th>default</th>\n",
       "      <th>housing</th>\n",
       "      <th>loan</th>\n",
       "      <th>contact</th>\n",
       "      <th>month</th>\n",
       "      <th>day_of_week</th>\n",
       "      <th>...</th>\n",
       "      <th>campaign</th>\n",
       "      <th>pdays</th>\n",
       "      <th>previous</th>\n",
       "      <th>poutcome</th>\n",
       "      <th>emp.var.rate</th>\n",
       "      <th>cons.price.idx</th>\n",
       "      <th>cons.conf.idx</th>\n",
       "      <th>euribor3m</th>\n",
       "      <th>nr.employed</th>\n",
       "      <th>y</th>\n",
       "    </tr>\n",
       "  </thead>\n",
       "  <tbody>\n",
       "    <tr>\n",
       "      <th>0</th>\n",
       "      <td>56</td>\n",
       "      <td>housemaid</td>\n",
       "      <td>married</td>\n",
       "      <td>basic.4y</td>\n",
       "      <td>no</td>\n",
       "      <td>no</td>\n",
       "      <td>no</td>\n",
       "      <td>telephone</td>\n",
       "      <td>may</td>\n",
       "      <td>mon</td>\n",
       "      <td>...</td>\n",
       "      <td>1</td>\n",
       "      <td>999</td>\n",
       "      <td>0</td>\n",
       "      <td>nonexistent</td>\n",
       "      <td>1.1</td>\n",
       "      <td>93.994</td>\n",
       "      <td>-36.4</td>\n",
       "      <td>4.857</td>\n",
       "      <td>5191.0</td>\n",
       "      <td>no</td>\n",
       "    </tr>\n",
       "    <tr>\n",
       "      <th>1</th>\n",
       "      <td>57</td>\n",
       "      <td>services</td>\n",
       "      <td>married</td>\n",
       "      <td>high.school</td>\n",
       "      <td>unknown</td>\n",
       "      <td>no</td>\n",
       "      <td>no</td>\n",
       "      <td>telephone</td>\n",
       "      <td>may</td>\n",
       "      <td>mon</td>\n",
       "      <td>...</td>\n",
       "      <td>1</td>\n",
       "      <td>999</td>\n",
       "      <td>0</td>\n",
       "      <td>nonexistent</td>\n",
       "      <td>1.1</td>\n",
       "      <td>93.994</td>\n",
       "      <td>-36.4</td>\n",
       "      <td>4.857</td>\n",
       "      <td>5191.0</td>\n",
       "      <td>no</td>\n",
       "    </tr>\n",
       "    <tr>\n",
       "      <th>2</th>\n",
       "      <td>37</td>\n",
       "      <td>services</td>\n",
       "      <td>married</td>\n",
       "      <td>high.school</td>\n",
       "      <td>no</td>\n",
       "      <td>yes</td>\n",
       "      <td>no</td>\n",
       "      <td>telephone</td>\n",
       "      <td>may</td>\n",
       "      <td>mon</td>\n",
       "      <td>...</td>\n",
       "      <td>1</td>\n",
       "      <td>999</td>\n",
       "      <td>0</td>\n",
       "      <td>nonexistent</td>\n",
       "      <td>1.1</td>\n",
       "      <td>93.994</td>\n",
       "      <td>-36.4</td>\n",
       "      <td>4.857</td>\n",
       "      <td>5191.0</td>\n",
       "      <td>no</td>\n",
       "    </tr>\n",
       "    <tr>\n",
       "      <th>3</th>\n",
       "      <td>40</td>\n",
       "      <td>admin.</td>\n",
       "      <td>married</td>\n",
       "      <td>basic.6y</td>\n",
       "      <td>no</td>\n",
       "      <td>no</td>\n",
       "      <td>no</td>\n",
       "      <td>telephone</td>\n",
       "      <td>may</td>\n",
       "      <td>mon</td>\n",
       "      <td>...</td>\n",
       "      <td>1</td>\n",
       "      <td>999</td>\n",
       "      <td>0</td>\n",
       "      <td>nonexistent</td>\n",
       "      <td>1.1</td>\n",
       "      <td>93.994</td>\n",
       "      <td>-36.4</td>\n",
       "      <td>4.857</td>\n",
       "      <td>5191.0</td>\n",
       "      <td>no</td>\n",
       "    </tr>\n",
       "    <tr>\n",
       "      <th>4</th>\n",
       "      <td>56</td>\n",
       "      <td>services</td>\n",
       "      <td>married</td>\n",
       "      <td>high.school</td>\n",
       "      <td>no</td>\n",
       "      <td>no</td>\n",
       "      <td>yes</td>\n",
       "      <td>telephone</td>\n",
       "      <td>may</td>\n",
       "      <td>mon</td>\n",
       "      <td>...</td>\n",
       "      <td>1</td>\n",
       "      <td>999</td>\n",
       "      <td>0</td>\n",
       "      <td>nonexistent</td>\n",
       "      <td>1.1</td>\n",
       "      <td>93.994</td>\n",
       "      <td>-36.4</td>\n",
       "      <td>4.857</td>\n",
       "      <td>5191.0</td>\n",
       "      <td>no</td>\n",
       "    </tr>\n",
       "  </tbody>\n",
       "</table>\n",
       "<p>5 rows × 21 columns</p>\n",
       "</div>"
      ],
      "text/plain": [
       "   age        job  marital    education  default housing loan    contact  \\\n",
       "0   56  housemaid  married     basic.4y       no      no   no  telephone   \n",
       "1   57   services  married  high.school  unknown      no   no  telephone   \n",
       "2   37   services  married  high.school       no     yes   no  telephone   \n",
       "3   40     admin.  married     basic.6y       no      no   no  telephone   \n",
       "4   56   services  married  high.school       no      no  yes  telephone   \n",
       "\n",
       "  month day_of_week  ...  campaign  pdays  previous     poutcome emp.var.rate  \\\n",
       "0   may         mon  ...         1    999         0  nonexistent          1.1   \n",
       "1   may         mon  ...         1    999         0  nonexistent          1.1   \n",
       "2   may         mon  ...         1    999         0  nonexistent          1.1   \n",
       "3   may         mon  ...         1    999         0  nonexistent          1.1   \n",
       "4   may         mon  ...         1    999         0  nonexistent          1.1   \n",
       "\n",
       "   cons.price.idx  cons.conf.idx  euribor3m  nr.employed   y  \n",
       "0          93.994          -36.4      4.857       5191.0  no  \n",
       "1          93.994          -36.4      4.857       5191.0  no  \n",
       "2          93.994          -36.4      4.857       5191.0  no  \n",
       "3          93.994          -36.4      4.857       5191.0  no  \n",
       "4          93.994          -36.4      4.857       5191.0  no  \n",
       "\n",
       "[5 rows x 21 columns]"
      ]
     },
     "execution_count": 2,
     "metadata": {},
     "output_type": "execute_result"
    }
   ],
   "source": [
    "df_db=pd.read_csv(\"/kaggle/input/bank-marketing/bank-additional-full.csv\",sep=\";\")\n",
    "df_db.head()\n"
   ]
  },
  {
   "cell_type": "code",
   "execution_count": 3,
   "id": "f63c83ae",
   "metadata": {
    "execution": {
     "iopub.execute_input": "2022-02-06T14:53:49.137972Z",
     "iopub.status.busy": "2022-02-06T14:53:49.137291Z",
     "iopub.status.idle": "2022-02-06T14:53:49.181245Z",
     "shell.execute_reply": "2022-02-06T14:53:49.180704Z",
     "shell.execute_reply.started": "2022-02-06T14:52:23.710472Z"
    },
    "papermill": {
     "duration": 0.079779,
     "end_time": "2022-02-06T14:53:49.181383",
     "exception": false,
     "start_time": "2022-02-06T14:53:49.101604",
     "status": "completed"
    },
    "tags": []
   },
   "outputs": [
    {
     "data": {
      "text/html": [
       "<div>\n",
       "<style scoped>\n",
       "    .dataframe tbody tr th:only-of-type {\n",
       "        vertical-align: middle;\n",
       "    }\n",
       "\n",
       "    .dataframe tbody tr th {\n",
       "        vertical-align: top;\n",
       "    }\n",
       "\n",
       "    .dataframe thead th {\n",
       "        text-align: right;\n",
       "    }\n",
       "</style>\n",
       "<table border=\"1\" class=\"dataframe\">\n",
       "  <thead>\n",
       "    <tr style=\"text-align: right;\">\n",
       "      <th></th>\n",
       "      <th>age</th>\n",
       "      <th>duration</th>\n",
       "      <th>campaign</th>\n",
       "      <th>pdays</th>\n",
       "      <th>previous</th>\n",
       "      <th>emp.var.rate</th>\n",
       "      <th>cons.price.idx</th>\n",
       "      <th>cons.conf.idx</th>\n",
       "      <th>euribor3m</th>\n",
       "      <th>nr.employed</th>\n",
       "    </tr>\n",
       "  </thead>\n",
       "  <tbody>\n",
       "    <tr>\n",
       "      <th>count</th>\n",
       "      <td>41188.00000</td>\n",
       "      <td>41188.000000</td>\n",
       "      <td>41188.000000</td>\n",
       "      <td>41188.000000</td>\n",
       "      <td>41188.000000</td>\n",
       "      <td>41188.000000</td>\n",
       "      <td>41188.000000</td>\n",
       "      <td>41188.000000</td>\n",
       "      <td>41188.000000</td>\n",
       "      <td>41188.000000</td>\n",
       "    </tr>\n",
       "    <tr>\n",
       "      <th>mean</th>\n",
       "      <td>40.02406</td>\n",
       "      <td>258.285010</td>\n",
       "      <td>2.567593</td>\n",
       "      <td>962.475454</td>\n",
       "      <td>0.172963</td>\n",
       "      <td>0.081886</td>\n",
       "      <td>93.575664</td>\n",
       "      <td>-40.502600</td>\n",
       "      <td>3.621291</td>\n",
       "      <td>5167.035911</td>\n",
       "    </tr>\n",
       "    <tr>\n",
       "      <th>std</th>\n",
       "      <td>10.42125</td>\n",
       "      <td>259.279249</td>\n",
       "      <td>2.770014</td>\n",
       "      <td>186.910907</td>\n",
       "      <td>0.494901</td>\n",
       "      <td>1.570960</td>\n",
       "      <td>0.578840</td>\n",
       "      <td>4.628198</td>\n",
       "      <td>1.734447</td>\n",
       "      <td>72.251528</td>\n",
       "    </tr>\n",
       "    <tr>\n",
       "      <th>min</th>\n",
       "      <td>17.00000</td>\n",
       "      <td>0.000000</td>\n",
       "      <td>1.000000</td>\n",
       "      <td>0.000000</td>\n",
       "      <td>0.000000</td>\n",
       "      <td>-3.400000</td>\n",
       "      <td>92.201000</td>\n",
       "      <td>-50.800000</td>\n",
       "      <td>0.634000</td>\n",
       "      <td>4963.600000</td>\n",
       "    </tr>\n",
       "    <tr>\n",
       "      <th>25%</th>\n",
       "      <td>32.00000</td>\n",
       "      <td>102.000000</td>\n",
       "      <td>1.000000</td>\n",
       "      <td>999.000000</td>\n",
       "      <td>0.000000</td>\n",
       "      <td>-1.800000</td>\n",
       "      <td>93.075000</td>\n",
       "      <td>-42.700000</td>\n",
       "      <td>1.344000</td>\n",
       "      <td>5099.100000</td>\n",
       "    </tr>\n",
       "    <tr>\n",
       "      <th>50%</th>\n",
       "      <td>38.00000</td>\n",
       "      <td>180.000000</td>\n",
       "      <td>2.000000</td>\n",
       "      <td>999.000000</td>\n",
       "      <td>0.000000</td>\n",
       "      <td>1.100000</td>\n",
       "      <td>93.749000</td>\n",
       "      <td>-41.800000</td>\n",
       "      <td>4.857000</td>\n",
       "      <td>5191.000000</td>\n",
       "    </tr>\n",
       "    <tr>\n",
       "      <th>75%</th>\n",
       "      <td>47.00000</td>\n",
       "      <td>319.000000</td>\n",
       "      <td>3.000000</td>\n",
       "      <td>999.000000</td>\n",
       "      <td>0.000000</td>\n",
       "      <td>1.400000</td>\n",
       "      <td>93.994000</td>\n",
       "      <td>-36.400000</td>\n",
       "      <td>4.961000</td>\n",
       "      <td>5228.100000</td>\n",
       "    </tr>\n",
       "    <tr>\n",
       "      <th>max</th>\n",
       "      <td>98.00000</td>\n",
       "      <td>4918.000000</td>\n",
       "      <td>56.000000</td>\n",
       "      <td>999.000000</td>\n",
       "      <td>7.000000</td>\n",
       "      <td>1.400000</td>\n",
       "      <td>94.767000</td>\n",
       "      <td>-26.900000</td>\n",
       "      <td>5.045000</td>\n",
       "      <td>5228.100000</td>\n",
       "    </tr>\n",
       "  </tbody>\n",
       "</table>\n",
       "</div>"
      ],
      "text/plain": [
       "               age      duration      campaign         pdays      previous  \\\n",
       "count  41188.00000  41188.000000  41188.000000  41188.000000  41188.000000   \n",
       "mean      40.02406    258.285010      2.567593    962.475454      0.172963   \n",
       "std       10.42125    259.279249      2.770014    186.910907      0.494901   \n",
       "min       17.00000      0.000000      1.000000      0.000000      0.000000   \n",
       "25%       32.00000    102.000000      1.000000    999.000000      0.000000   \n",
       "50%       38.00000    180.000000      2.000000    999.000000      0.000000   \n",
       "75%       47.00000    319.000000      3.000000    999.000000      0.000000   \n",
       "max       98.00000   4918.000000     56.000000    999.000000      7.000000   \n",
       "\n",
       "       emp.var.rate  cons.price.idx  cons.conf.idx     euribor3m   nr.employed  \n",
       "count  41188.000000    41188.000000   41188.000000  41188.000000  41188.000000  \n",
       "mean       0.081886       93.575664     -40.502600      3.621291   5167.035911  \n",
       "std        1.570960        0.578840       4.628198      1.734447     72.251528  \n",
       "min       -3.400000       92.201000     -50.800000      0.634000   4963.600000  \n",
       "25%       -1.800000       93.075000     -42.700000      1.344000   5099.100000  \n",
       "50%        1.100000       93.749000     -41.800000      4.857000   5191.000000  \n",
       "75%        1.400000       93.994000     -36.400000      4.961000   5228.100000  \n",
       "max        1.400000       94.767000     -26.900000      5.045000   5228.100000  "
      ]
     },
     "execution_count": 3,
     "metadata": {},
     "output_type": "execute_result"
    }
   ],
   "source": [
    "df_db.describe()"
   ]
  },
  {
   "cell_type": "markdown",
   "id": "24073c4a",
   "metadata": {
    "papermill": {
     "duration": 0.022341,
     "end_time": "2022-02-06T14:53:49.226721",
     "exception": false,
     "start_time": "2022-02-06T14:53:49.204380",
     "status": "completed"
    },
    "tags": []
   },
   "source": [
    "### ***4. <a id=\"4\"></a> Correlation*** "
   ]
  },
  {
   "cell_type": "code",
   "execution_count": 4,
   "id": "b259f6fa",
   "metadata": {
    "execution": {
     "iopub.execute_input": "2022-02-06T14:53:49.277422Z",
     "iopub.status.busy": "2022-02-06T14:53:49.276769Z",
     "iopub.status.idle": "2022-02-06T14:53:50.234301Z",
     "shell.execute_reply": "2022-02-06T14:53:50.233731Z",
     "shell.execute_reply.started": "2022-02-06T14:52:23.776973Z"
    },
    "papermill": {
     "duration": 0.983268,
     "end_time": "2022-02-06T14:53:50.234476",
     "exception": false,
     "start_time": "2022-02-06T14:53:49.251208",
     "status": "completed"
    },
    "tags": []
   },
   "outputs": [
    {
     "data": {
      "image/png": "[encoded data removed]",
      "text/plain": [
       "<Figure size 2000x1000 with 2 Axes>"
      ]
     },
     "metadata": {
      "needs_background": "light"
     },
     "output_type": "display_data"
    }
   ],
   "source": [
    "df_db2=df_db.copy()\n",
    "for i in list(df_db.columns):\n",
    "    if df_db[i].dtype == 'object':\n",
    "        df_db2[i]=pd.factorize(df_db[i])[0]\n",
    "\n",
    "plt.figure(figsize=(10, 5),dpi=200)\n",
    "plt.title('correlation between attributes')\n",
    "sns.heatmap(df_db2.corr(),lw=1,linecolor='white',cmap='YlOrRd')\n",
    "plt.xticks(rotation=57)\n",
    "plt.yticks(rotation = 0)\n",
    "plt.show()\n",
    "corr_matrix = df_db.corr()\n",
    "#print(corr_matrix)"
   ]
  },
  {
   "cell_type": "markdown",
   "id": "3e7b3ab1",
   "metadata": {
    "papermill": {
     "duration": 0.027117,
     "end_time": "2022-02-06T14:53:50.289050",
     "exception": false,
     "start_time": "2022-02-06T14:53:50.261933",
     "status": "completed"
    },
    "tags": []
   },
   "source": [
    "### ***5. <a id=\"5\"></a>  Features ingeneering*** \n",
    "I will drop not interesting features and merge features that give similar information based on domain knowledge"
   ]
  },
  {
   "cell_type": "code",
   "execution_count": 5,
   "id": "86194ef5",
   "metadata": {
    "execution": {
     "iopub.execute_input": "2022-02-06T14:53:50.347329Z",
     "iopub.status.busy": "2022-02-06T14:53:50.346684Z",
     "iopub.status.idle": "2022-02-06T14:53:50.490448Z",
     "shell.execute_reply": "2022-02-06T14:53:50.489869Z",
     "shell.execute_reply.started": "2022-02-06T14:52:24.787251Z"
    },
    "papermill": {
     "duration": 0.173985,
     "end_time": "2022-02-06T14:53:50.490604",
     "exception": false,
     "start_time": "2022-02-06T14:53:50.316619",
     "status": "completed"
    },
    "tags": []
   },
   "outputs": [
    {
     "data": {
      "text/html": [
       "<div>\n",
       "<style scoped>\n",
       "    .dataframe tbody tr th:only-of-type {\n",
       "        vertical-align: middle;\n",
       "    }\n",
       "\n",
       "    .dataframe tbody tr th {\n",
       "        vertical-align: top;\n",
       "    }\n",
       "\n",
       "    .dataframe thead th {\n",
       "        text-align: right;\n",
       "    }\n",
       "</style>\n",
       "<table border=\"1\" class=\"dataframe\">\n",
       "  <thead>\n",
       "    <tr style=\"text-align: right;\">\n",
       "      <th></th>\n",
       "      <th>age</th>\n",
       "      <th>job</th>\n",
       "      <th>marital</th>\n",
       "      <th>education</th>\n",
       "      <th>default</th>\n",
       "      <th>loan</th>\n",
       "      <th>duration</th>\n",
       "      <th>campaign</th>\n",
       "      <th>pdays</th>\n",
       "      <th>previous</th>\n",
       "      <th>poutcome</th>\n",
       "      <th>emp.var.rate</th>\n",
       "      <th>cons.price.idx</th>\n",
       "      <th>cons.conf.idx</th>\n",
       "      <th>euribor3m</th>\n",
       "      <th>nr.employed</th>\n",
       "      <th>y</th>\n",
       "    </tr>\n",
       "  </thead>\n",
       "  <tbody>\n",
       "    <tr>\n",
       "      <th>0</th>\n",
       "      <td>56</td>\n",
       "      <td>housemaid</td>\n",
       "      <td>married</td>\n",
       "      <td>4.0</td>\n",
       "      <td>no</td>\n",
       "      <td>0</td>\n",
       "      <td>261</td>\n",
       "      <td>1</td>\n",
       "      <td>999</td>\n",
       "      <td>0</td>\n",
       "      <td>nonexistent</td>\n",
       "      <td>1.1</td>\n",
       "      <td>93.994</td>\n",
       "      <td>-36.4</td>\n",
       "      <td>4.857</td>\n",
       "      <td>5191.0</td>\n",
       "      <td>no</td>\n",
       "    </tr>\n",
       "    <tr>\n",
       "      <th>1</th>\n",
       "      <td>57</td>\n",
       "      <td>services</td>\n",
       "      <td>married</td>\n",
       "      <td>12.0</td>\n",
       "      <td>unknown</td>\n",
       "      <td>0</td>\n",
       "      <td>149</td>\n",
       "      <td>1</td>\n",
       "      <td>999</td>\n",
       "      <td>0</td>\n",
       "      <td>nonexistent</td>\n",
       "      <td>1.1</td>\n",
       "      <td>93.994</td>\n",
       "      <td>-36.4</td>\n",
       "      <td>4.857</td>\n",
       "      <td>5191.0</td>\n",
       "      <td>no</td>\n",
       "    </tr>\n",
       "    <tr>\n",
       "      <th>2</th>\n",
       "      <td>37</td>\n",
       "      <td>services</td>\n",
       "      <td>married</td>\n",
       "      <td>12.0</td>\n",
       "      <td>no</td>\n",
       "      <td>1</td>\n",
       "      <td>226</td>\n",
       "      <td>1</td>\n",
       "      <td>999</td>\n",
       "      <td>0</td>\n",
       "      <td>nonexistent</td>\n",
       "      <td>1.1</td>\n",
       "      <td>93.994</td>\n",
       "      <td>-36.4</td>\n",
       "      <td>4.857</td>\n",
       "      <td>5191.0</td>\n",
       "      <td>no</td>\n",
       "    </tr>\n",
       "    <tr>\n",
       "      <th>3</th>\n",
       "      <td>40</td>\n",
       "      <td>admin.</td>\n",
       "      <td>married</td>\n",
       "      <td>6.0</td>\n",
       "      <td>no</td>\n",
       "      <td>0</td>\n",
       "      <td>151</td>\n",
       "      <td>1</td>\n",
       "      <td>999</td>\n",
       "      <td>0</td>\n",
       "      <td>nonexistent</td>\n",
       "      <td>1.1</td>\n",
       "      <td>93.994</td>\n",
       "      <td>-36.4</td>\n",
       "      <td>4.857</td>\n",
       "      <td>5191.0</td>\n",
       "      <td>no</td>\n",
       "    </tr>\n",
       "    <tr>\n",
       "      <th>4</th>\n",
       "      <td>56</td>\n",
       "      <td>services</td>\n",
       "      <td>married</td>\n",
       "      <td>12.0</td>\n",
       "      <td>no</td>\n",
       "      <td>1</td>\n",
       "      <td>307</td>\n",
       "      <td>1</td>\n",
       "      <td>999</td>\n",
       "      <td>0</td>\n",
       "      <td>nonexistent</td>\n",
       "      <td>1.1</td>\n",
       "      <td>93.994</td>\n",
       "      <td>-36.4</td>\n",
       "      <td>4.857</td>\n",
       "      <td>5191.0</td>\n",
       "      <td>no</td>\n",
       "    </tr>\n",
       "    <tr>\n",
       "      <th>...</th>\n",
       "      <td>...</td>\n",
       "      <td>...</td>\n",
       "      <td>...</td>\n",
       "      <td>...</td>\n",
       "      <td>...</td>\n",
       "      <td>...</td>\n",
       "      <td>...</td>\n",
       "      <td>...</td>\n",
       "      <td>...</td>\n",
       "      <td>...</td>\n",
       "      <td>...</td>\n",
       "      <td>...</td>\n",
       "      <td>...</td>\n",
       "      <td>...</td>\n",
       "      <td>...</td>\n",
       "      <td>...</td>\n",
       "      <td>...</td>\n",
       "    </tr>\n",
       "    <tr>\n",
       "      <th>41183</th>\n",
       "      <td>73</td>\n",
       "      <td>retired</td>\n",
       "      <td>married</td>\n",
       "      <td>14.0</td>\n",
       "      <td>no</td>\n",
       "      <td>1</td>\n",
       "      <td>334</td>\n",
       "      <td>1</td>\n",
       "      <td>999</td>\n",
       "      <td>0</td>\n",
       "      <td>nonexistent</td>\n",
       "      <td>-1.1</td>\n",
       "      <td>94.767</td>\n",
       "      <td>-50.8</td>\n",
       "      <td>1.028</td>\n",
       "      <td>4963.6</td>\n",
       "      <td>yes</td>\n",
       "    </tr>\n",
       "    <tr>\n",
       "      <th>41184</th>\n",
       "      <td>46</td>\n",
       "      <td>blue-collar</td>\n",
       "      <td>married</td>\n",
       "      <td>14.0</td>\n",
       "      <td>no</td>\n",
       "      <td>0</td>\n",
       "      <td>383</td>\n",
       "      <td>1</td>\n",
       "      <td>999</td>\n",
       "      <td>0</td>\n",
       "      <td>nonexistent</td>\n",
       "      <td>-1.1</td>\n",
       "      <td>94.767</td>\n",
       "      <td>-50.8</td>\n",
       "      <td>1.028</td>\n",
       "      <td>4963.6</td>\n",
       "      <td>no</td>\n",
       "    </tr>\n",
       "    <tr>\n",
       "      <th>41185</th>\n",
       "      <td>56</td>\n",
       "      <td>retired</td>\n",
       "      <td>married</td>\n",
       "      <td>17.0</td>\n",
       "      <td>no</td>\n",
       "      <td>1</td>\n",
       "      <td>189</td>\n",
       "      <td>2</td>\n",
       "      <td>999</td>\n",
       "      <td>0</td>\n",
       "      <td>nonexistent</td>\n",
       "      <td>-1.1</td>\n",
       "      <td>94.767</td>\n",
       "      <td>-50.8</td>\n",
       "      <td>1.028</td>\n",
       "      <td>4963.6</td>\n",
       "      <td>no</td>\n",
       "    </tr>\n",
       "    <tr>\n",
       "      <th>41186</th>\n",
       "      <td>44</td>\n",
       "      <td>technician</td>\n",
       "      <td>married</td>\n",
       "      <td>14.0</td>\n",
       "      <td>no</td>\n",
       "      <td>0</td>\n",
       "      <td>442</td>\n",
       "      <td>1</td>\n",
       "      <td>999</td>\n",
       "      <td>0</td>\n",
       "      <td>nonexistent</td>\n",
       "      <td>-1.1</td>\n",
       "      <td>94.767</td>\n",
       "      <td>-50.8</td>\n",
       "      <td>1.028</td>\n",
       "      <td>4963.6</td>\n",
       "      <td>yes</td>\n",
       "    </tr>\n",
       "    <tr>\n",
       "      <th>41187</th>\n",
       "      <td>74</td>\n",
       "      <td>retired</td>\n",
       "      <td>married</td>\n",
       "      <td>14.0</td>\n",
       "      <td>no</td>\n",
       "      <td>1</td>\n",
       "      <td>239</td>\n",
       "      <td>3</td>\n",
       "      <td>999</td>\n",
       "      <td>1</td>\n",
       "      <td>failure</td>\n",
       "      <td>-1.1</td>\n",
       "      <td>94.767</td>\n",
       "      <td>-50.8</td>\n",
       "      <td>1.028</td>\n",
       "      <td>4963.6</td>\n",
       "      <td>no</td>\n",
       "    </tr>\n",
       "  </tbody>\n",
       "</table>\n",
       "<p>41188 rows × 17 columns</p>\n",
       "</div>"
      ],
      "text/plain": [
       "       age          job  marital  education  default loan  duration  campaign  \\\n",
       "0       56    housemaid  married        4.0       no    0       261         1   \n",
       "1       57     services  married       12.0  unknown    0       149         1   \n",
       "2       37     services  married       12.0       no    1       226         1   \n",
       "3       40       admin.  married        6.0       no    0       151         1   \n",
       "4       56     services  married       12.0       no    1       307         1   \n",
       "...    ...          ...      ...        ...      ...  ...       ...       ...   \n",
       "41183   73      retired  married       14.0       no    1       334         1   \n",
       "41184   46  blue-collar  married       14.0       no    0       383         1   \n",
       "41185   56      retired  married       17.0       no    1       189         2   \n",
       "41186   44   technician  married       14.0       no    0       442         1   \n",
       "41187   74      retired  married       14.0       no    1       239         3   \n",
       "\n",
       "       pdays  previous     poutcome  emp.var.rate  cons.price.idx  \\\n",
       "0        999         0  nonexistent           1.1          93.994   \n",
       "1        999         0  nonexistent           1.1          93.994   \n",
       "2        999         0  nonexistent           1.1          93.994   \n",
       "3        999         0  nonexistent           1.1          93.994   \n",
       "4        999         0  nonexistent           1.1          93.994   \n",
       "...      ...       ...          ...           ...             ...   \n",
       "41183    999         0  nonexistent          -1.1          94.767   \n",
       "41184    999         0  nonexistent          -1.1          94.767   \n",
       "41185    999         0  nonexistent          -1.1          94.767   \n",
       "41186    999         0  nonexistent          -1.1          94.767   \n",
       "41187    999         1      failure          -1.1          94.767   \n",
       "\n",
       "       cons.conf.idx  euribor3m  nr.employed    y  \n",
       "0              -36.4      4.857       5191.0   no  \n",
       "1              -36.4      4.857       5191.0   no  \n",
       "2              -36.4      4.857       5191.0   no  \n",
       "3              -36.4      4.857       5191.0   no  \n",
       "4              -36.4      4.857       5191.0   no  \n",
       "...              ...        ...          ...  ...  \n",
       "41183          -50.8      1.028       4963.6  yes  \n",
       "41184          -50.8      1.028       4963.6   no  \n",
       "41185          -50.8      1.028       4963.6   no  \n",
       "41186          -50.8      1.028       4963.6  yes  \n",
       "41187          -50.8      1.028       4963.6   no  \n",
       "\n",
       "[41188 rows x 17 columns]"
      ]
     },
     "execution_count": 5,
     "metadata": {},
     "output_type": "execute_result"
    }
   ],
   "source": [
    "import warnings\n",
    "warnings.filterwarnings('ignore')\n",
    "df_db=df_db.drop([\"month\",\"day_of_week\",\"contact\"],axis=1)\n",
    "df_db[\"education\"]=df_db[\"education\"].replace(['basic.4y','high.school','basic.6y','basic.9y','professional.course','university.degree','illiterate',\"unknown\"],[4,12,6,9,14,17,0,np.nan])\n",
    "df_db.housing[df_db['housing']=='no']=0\n",
    "df_db.housing[df_db['housing']=='yes']=1\n",
    "df_db.housing[df_db['housing']=='unknown']=np.nan\n",
    "df_db.loan[df_db['loan']=='no']=0\n",
    "df_db.loan[df_db['loan']=='yes']=1\n",
    "df_db.loan[df_db['loan']=='unknown']=np.nan\n",
    "df_db[\"loan\"]=df_db[\"loan\"]+df_db[\"housing\"]\n",
    "df_db.drop(\"housing\",axis=1)\n",
    "#df_db=df_db.replace('unknown',-999)\n"
   ]
  },
  {
   "cell_type": "markdown",
   "id": "cc67ea04",
   "metadata": {
    "papermill": {
     "duration": 0.027509,
     "end_time": "2022-02-06T14:53:50.546148",
     "exception": false,
     "start_time": "2022-02-06T14:53:50.518639",
     "status": "completed"
    },
    "tags": []
   },
   "source": [
    "### ***6. <a id=\"6\"></a>  Outliers handeling*** "
   ]
  },
  {
   "cell_type": "code",
   "execution_count": 6,
   "id": "56ad73ae",
   "metadata": {
    "execution": {
     "iopub.execute_input": "2022-02-06T14:53:50.605839Z",
     "iopub.status.busy": "2022-02-06T14:53:50.605154Z",
     "iopub.status.idle": "2022-02-06T14:53:51.659248Z",
     "shell.execute_reply": "2022-02-06T14:53:51.658705Z",
     "shell.execute_reply.started": "2022-02-06T14:52:24.947888Z"
    },
    "papermill": {
     "duration": 1.085113,
     "end_time": "2022-02-06T14:53:51.659398",
     "exception": false,
     "start_time": "2022-02-06T14:53:50.574285",
     "status": "completed"
    },
    "tags": []
   },
   "outputs": [
    {
     "name": "stdout",
     "output_type": "stream",
     "text": [
      "\n"
     ]
    },
    {
     "data": {
      "image/png": "[encoded data removed]",
      "text/plain": [
       "<Figure size 1008x432 with 1 Axes>"
      ]
     },
     "metadata": {
      "needs_background": "light"
     },
     "output_type": "display_data"
    }
   ],
   "source": [
    "plt.figure(figsize=(14,6))\n",
    "df_db.boxplot()\n",
    "print()"
   ]
  },
  {
   "cell_type": "code",
   "execution_count": 7,
   "id": "a2ba6238",
   "metadata": {
    "execution": {
     "iopub.execute_input": "2022-02-06T14:53:51.741528Z",
     "iopub.status.busy": "2022-02-06T14:53:51.740842Z",
     "iopub.status.idle": "2022-02-06T14:53:52.623360Z",
     "shell.execute_reply": "2022-02-06T14:53:52.622808Z",
     "shell.execute_reply.started": "2022-02-06T14:52:26.036759Z"
    },
    "papermill": {
     "duration": 0.933919,
     "end_time": "2022-02-06T14:53:52.623531",
     "exception": false,
     "start_time": "2022-02-06T14:53:51.689612",
     "status": "completed"
    },
    "tags": []
   },
   "outputs": [
    {
     "data": {
      "text/plain": [
       "<AxesSubplot:ylabel='cons.conf.idx'>"
      ]
     },
     "execution_count": 7,
     "metadata": {},
     "output_type": "execute_result"
    },
    {
     "data": {
      "image/png": "[encoded data removed]",
      "text/plain": [
       "<Figure size 1080x720 with 6 Axes>"
      ]
     },
     "metadata": {
      "needs_background": "light"
     },
     "output_type": "display_data"
    }
   ],
   "source": [
    "fig, axs = plt.subplots(nrows=2, ncols=3,figsize=(15,10))\n",
    "sns.boxplot(y=df_db[\"age\"],ax=axs[0][0])\n",
    "sns.boxplot(y=df_db[\"duration\"],ax=axs[0][1])\n",
    "sns.boxplot(y=df_db[\"previous\"],ax=axs[0][2])\n",
    "sns.boxplot(y=df_db[\"campaign\"],ax=axs[1][0])\n",
    "sns.boxplot(y=df_db[\"pdays\"],ax=axs[1][1])\n",
    "sns.boxplot(y=df_db[\"cons.conf.idx\"],ax=axs[1][2])"
   ]
  },
  {
   "cell_type": "code",
   "execution_count": 8,
   "id": "1ad8a810",
   "metadata": {
    "execution": {
     "iopub.execute_input": "2022-02-06T14:53:52.693713Z",
     "iopub.status.busy": "2022-02-06T14:53:52.692962Z",
     "iopub.status.idle": "2022-02-06T14:53:52.707863Z",
     "shell.execute_reply": "2022-02-06T14:53:52.708411Z",
     "shell.execute_reply.started": "2022-02-06T14:52:26.974377Z"
    },
    "papermill": {
     "duration": 0.053327,
     "end_time": "2022-02-06T14:53:52.708647",
     "exception": false,
     "start_time": "2022-02-06T14:53:52.655320",
     "status": "completed"
    },
    "tags": []
   },
   "outputs": [],
   "source": [
    "Q1 = df_db['duration'].quantile(.25)\n",
    "Q3 = df_db['duration'].quantile(.75)\n",
    "IQR = Q3 - Q1\n",
    "lower = Q1 - 1.5 * IQR\n",
    "upper = Q3 + 1.5 * IQR\n",
    "df_db = df_db[df_db['duration'] >= lower] \n",
    "df_db = df_db[df_db['duration'] <=upper] "
   ]
  },
  {
   "cell_type": "code",
   "execution_count": 9,
   "id": "51c229f9",
   "metadata": {
    "execution": {
     "iopub.execute_input": "2022-02-06T14:53:52.774997Z",
     "iopub.status.busy": "2022-02-06T14:53:52.774102Z",
     "iopub.status.idle": "2022-02-06T14:53:52.803778Z",
     "shell.execute_reply": "2022-02-06T14:53:52.803050Z",
     "shell.execute_reply.started": "2022-02-06T14:52:27.002367Z"
    },
    "papermill": {
     "duration": 0.064706,
     "end_time": "2022-02-06T14:53:52.803940",
     "exception": false,
     "start_time": "2022-02-06T14:53:52.739234",
     "status": "completed"
    },
    "tags": []
   },
   "outputs": [],
   "source": [
    "Q1 = df_db['age'].quantile(.20)\n",
    "Q3 = df_db['age'].quantile(.80)\n",
    "IQR = Q3 - Q1\n",
    "lower = Q1 - 1.5 * IQR\n",
    "upper = Q3 + 1.5 * IQR\n",
    "df_db = df_db[df_db['age'] >= lower] \n",
    "df_db = df_db[df_db['age'] <=upper] \n",
    "\n",
    "Q1 = df_db['previous'].quantile(.20)\n",
    "Q3 = df_db['previous'].quantile(.80)\n",
    "IQR = Q3 - Q1\n",
    "lower = Q1 - 1.5 * IQR\n",
    "upper = Q3 + 1.5 * IQR\n",
    "df_db = df_db[df_db['previous'] >= lower] \n",
    "df_db = df_db[df_db['previous'] <=upper] "
   ]
  },
  {
   "cell_type": "markdown",
   "id": "7de7d67e",
   "metadata": {
    "papermill": {
     "duration": 0.030683,
     "end_time": "2022-02-06T14:53:52.865431",
     "exception": false,
     "start_time": "2022-02-06T14:53:52.834748",
     "status": "completed"
    },
    "tags": []
   },
   "source": [
    "### ***7. <a id=\"7\"></a> Dataset balancing*** "
   ]
  },
  {
   "cell_type": "code",
   "execution_count": 10,
   "id": "de142f40",
   "metadata": {
    "execution": {
     "iopub.execute_input": "2022-02-06T14:53:52.934370Z",
     "iopub.status.busy": "2022-02-06T14:53:52.933616Z",
     "iopub.status.idle": "2022-02-06T14:53:53.058415Z",
     "shell.execute_reply": "2022-02-06T14:53:53.057452Z",
     "shell.execute_reply.started": "2022-02-06T14:52:27.038741Z"
    },
    "papermill": {
     "duration": 0.161181,
     "end_time": "2022-02-06T14:53:53.058677",
     "exception": false,
     "start_time": "2022-02-06T14:53:52.897496",
     "status": "completed"
    },
    "tags": []
   },
   "outputs": [
    {
     "data": {
      "image/png": "[encoded data removed]",
      "text/plain": [
       "<Figure size 432x288 with 1 Axes>"
      ]
     },
     "metadata": {},
     "output_type": "display_data"
    }
   ],
   "source": [
    "values=df_db[\"y\"].value_counts().tolist()\n",
    "values=[i * 100/sum(values) for i in values]\n",
    "labels=[\"No\",\"Yes\"]\n",
    "scale=values[0]/values[1]\n",
    "explode = (0.01, 0.1)\n",
    "fig1, ax1 = plt.subplots()\n",
    "ax1.pie(values, explode=explode, labels=labels, autopct='%1.1f%%',shadow=False, startangle=90)\n",
    "ax1.axis('equal')\n",
    "plt.title('Dataset classes\\' rate')\n",
    "plt.show()"
   ]
  },
  {
   "cell_type": "code",
   "execution_count": 11,
   "id": "180d86d7",
   "metadata": {
    "execution": {
     "iopub.execute_input": "2022-02-06T14:53:53.185756Z",
     "iopub.status.busy": "2022-02-06T14:53:53.170788Z",
     "iopub.status.idle": "2022-02-06T14:53:53.242406Z",
     "shell.execute_reply": "2022-02-06T14:53:53.241840Z",
     "shell.execute_reply.started": "2022-02-06T14:52:27.176149Z"
    },
    "papermill": {
     "duration": 0.122323,
     "end_time": "2022-02-06T14:53:53.242660",
     "exception": false,
     "start_time": "2022-02-06T14:53:53.120337",
     "status": "completed"
    },
    "tags": []
   },
   "outputs": [],
   "source": [
    "df_db[\"y\"]=df_db[\"y\"].replace(\"no\",0)\n",
    "df_db[\"y\"]=df_db[\"y\"].replace(\"yes\",1)\n",
    "df_classe_majority = df_db[df_db.y==0]\n",
    "df_classe_minority = df_db[df_db.y==1]\n",
    "# Upsample of minority class\n",
    "from sklearn.utils import resample\n",
    "df_classe_minority_upsampled = resample(df_classe_minority, \n",
    "                                           replace = True,     \n",
    "                                           n_samples =df_classe_majority.shape[0],   \n",
    "                                           random_state = 150) \n",
    "df_db = pd.concat([df_classe_majority, df_classe_minority_upsampled])\n",
    "Y = df_db[\"y\"]\n",
    "X = df_db.drop(['y'], axis=1)"
   ]
  },
  {
   "cell_type": "code",
   "execution_count": 12,
   "id": "9b0a33db",
   "metadata": {
    "execution": {
     "iopub.execute_input": "2022-02-06T14:53:53.309982Z",
     "iopub.status.busy": "2022-02-06T14:53:53.309313Z",
     "iopub.status.idle": "2022-02-06T14:53:53.403965Z",
     "shell.execute_reply": "2022-02-06T14:53:53.404889Z",
     "shell.execute_reply.started": "2022-02-06T14:52:27.270124Z"
    },
    "papermill": {
     "duration": 0.13031,
     "end_time": "2022-02-06T14:53:53.405181",
     "exception": false,
     "start_time": "2022-02-06T14:53:53.274871",
     "status": "completed"
    },
    "tags": []
   },
   "outputs": [
    {
     "data": {
      "image/png": "[encoded data removed]",
      "text/plain": [
       "<Figure size 432x288 with 1 Axes>"
      ]
     },
     "metadata": {},
     "output_type": "display_data"
    }
   ],
   "source": [
    "values=df_db[\"y\"].value_counts().tolist()\n",
    "values=[i * 100/sum(values) for i in values]\n",
    "labels=[\"No\",\"Yes\"]\n",
    "scale=values[0]/values[1]\n",
    "explode = (0.01, 0.1)\n",
    "fig1, ax1 = plt.subplots()\n",
    "ax1.pie(values, explode=explode, labels=labels, autopct='%1.1f%%',shadow=False, startangle=90)\n",
    "ax1.axis('equal')\n",
    "plt.title('Dataset classes\\' rate')\n",
    "plt.show()"
   ]
  },
  {
   "cell_type": "markdown",
   "id": "97696ec7",
   "metadata": {
    "papermill": {
     "duration": 0.041709,
     "end_time": "2022-02-06T14:53:53.507615",
     "exception": false,
     "start_time": "2022-02-06T14:53:53.465906",
     "status": "completed"
    },
    "tags": []
   },
   "source": [
    "### ***8. <a id=\"8\"></a> categorical features*** "
   ]
  },
  {
   "cell_type": "code",
   "execution_count": 13,
   "id": "92ea8dcf",
   "metadata": {
    "execution": {
     "iopub.execute_input": "2022-02-06T14:53:53.583979Z",
     "iopub.status.busy": "2022-02-06T14:53:53.583209Z",
     "iopub.status.idle": "2022-02-06T14:53:53.694368Z",
     "shell.execute_reply": "2022-02-06T14:53:53.693824Z",
     "shell.execute_reply.started": "2022-02-06T14:52:27.360966Z"
    },
    "papermill": {
     "duration": 0.154964,
     "end_time": "2022-02-06T14:53:53.694553",
     "exception": false,
     "start_time": "2022-02-06T14:53:53.539589",
     "status": "completed"
    },
    "tags": []
   },
   "outputs": [
    {
     "data": {
      "text/html": [
       "<div>\n",
       "<style scoped>\n",
       "    .dataframe tbody tr th:only-of-type {\n",
       "        vertical-align: middle;\n",
       "    }\n",
       "\n",
       "    .dataframe tbody tr th {\n",
       "        vertical-align: top;\n",
       "    }\n",
       "\n",
       "    .dataframe thead th {\n",
       "        text-align: right;\n",
       "    }\n",
       "</style>\n",
       "<table border=\"1\" class=\"dataframe\">\n",
       "  <thead>\n",
       "    <tr style=\"text-align: right;\">\n",
       "      <th></th>\n",
       "      <th>age</th>\n",
       "      <th>job</th>\n",
       "      <th>marital</th>\n",
       "      <th>education</th>\n",
       "      <th>default</th>\n",
       "      <th>housing</th>\n",
       "      <th>loan</th>\n",
       "      <th>duration</th>\n",
       "      <th>campaign</th>\n",
       "      <th>pdays</th>\n",
       "      <th>previous</th>\n",
       "      <th>poutcome</th>\n",
       "      <th>emp.var.rate</th>\n",
       "      <th>cons.price.idx</th>\n",
       "      <th>cons.conf.idx</th>\n",
       "      <th>euribor3m</th>\n",
       "      <th>nr.employed</th>\n",
       "    </tr>\n",
       "  </thead>\n",
       "  <tbody>\n",
       "    <tr>\n",
       "      <th>0</th>\n",
       "      <td>56</td>\n",
       "      <td>3</td>\n",
       "      <td>1</td>\n",
       "      <td>4.0</td>\n",
       "      <td>0</td>\n",
       "      <td>0</td>\n",
       "      <td>0</td>\n",
       "      <td>261</td>\n",
       "      <td>0</td>\n",
       "      <td>999</td>\n",
       "      <td>0</td>\n",
       "      <td>0</td>\n",
       "      <td>1.1</td>\n",
       "      <td>93.994</td>\n",
       "      <td>-36.4</td>\n",
       "      <td>4.857</td>\n",
       "      <td>5191.0</td>\n",
       "    </tr>\n",
       "    <tr>\n",
       "      <th>1</th>\n",
       "      <td>57</td>\n",
       "      <td>7</td>\n",
       "      <td>1</td>\n",
       "      <td>12.0</td>\n",
       "      <td>1</td>\n",
       "      <td>0</td>\n",
       "      <td>0</td>\n",
       "      <td>149</td>\n",
       "      <td>0</td>\n",
       "      <td>999</td>\n",
       "      <td>0</td>\n",
       "      <td>0</td>\n",
       "      <td>1.1</td>\n",
       "      <td>93.994</td>\n",
       "      <td>-36.4</td>\n",
       "      <td>4.857</td>\n",
       "      <td>5191.0</td>\n",
       "    </tr>\n",
       "    <tr>\n",
       "      <th>2</th>\n",
       "      <td>37</td>\n",
       "      <td>7</td>\n",
       "      <td>1</td>\n",
       "      <td>12.0</td>\n",
       "      <td>0</td>\n",
       "      <td>1</td>\n",
       "      <td>1</td>\n",
       "      <td>226</td>\n",
       "      <td>0</td>\n",
       "      <td>999</td>\n",
       "      <td>0</td>\n",
       "      <td>0</td>\n",
       "      <td>1.1</td>\n",
       "      <td>93.994</td>\n",
       "      <td>-36.4</td>\n",
       "      <td>4.857</td>\n",
       "      <td>5191.0</td>\n",
       "    </tr>\n",
       "    <tr>\n",
       "      <th>3</th>\n",
       "      <td>40</td>\n",
       "      <td>0</td>\n",
       "      <td>1</td>\n",
       "      <td>6.0</td>\n",
       "      <td>0</td>\n",
       "      <td>0</td>\n",
       "      <td>0</td>\n",
       "      <td>151</td>\n",
       "      <td>0</td>\n",
       "      <td>999</td>\n",
       "      <td>0</td>\n",
       "      <td>0</td>\n",
       "      <td>1.1</td>\n",
       "      <td>93.994</td>\n",
       "      <td>-36.4</td>\n",
       "      <td>4.857</td>\n",
       "      <td>5191.0</td>\n",
       "    </tr>\n",
       "    <tr>\n",
       "      <th>4</th>\n",
       "      <td>56</td>\n",
       "      <td>7</td>\n",
       "      <td>1</td>\n",
       "      <td>12.0</td>\n",
       "      <td>0</td>\n",
       "      <td>0</td>\n",
       "      <td>1</td>\n",
       "      <td>307</td>\n",
       "      <td>0</td>\n",
       "      <td>999</td>\n",
       "      <td>0</td>\n",
       "      <td>0</td>\n",
       "      <td>1.1</td>\n",
       "      <td>93.994</td>\n",
       "      <td>-36.4</td>\n",
       "      <td>4.857</td>\n",
       "      <td>5191.0</td>\n",
       "    </tr>\n",
       "  </tbody>\n",
       "</table>\n",
       "</div>"
      ],
      "text/plain": [
       "   age  job  marital  education  default housing loan  duration  campaign  \\\n",
       "0   56    3        1        4.0        0       0    0       261         0   \n",
       "1   57    7        1       12.0        1       0    0       149         0   \n",
       "2   37    7        1       12.0        0       1    1       226         0   \n",
       "3   40    0        1        6.0        0       0    0       151         0   \n",
       "4   56    7        1       12.0        0       0    1       307         0   \n",
       "\n",
       "   pdays  previous  poutcome  emp.var.rate  cons.price.idx  cons.conf.idx  \\\n",
       "0    999         0         0           1.1          93.994          -36.4   \n",
       "1    999         0         0           1.1          93.994          -36.4   \n",
       "2    999         0         0           1.1          93.994          -36.4   \n",
       "3    999         0         0           1.1          93.994          -36.4   \n",
       "4    999         0         0           1.1          93.994          -36.4   \n",
       "\n",
       "   euribor3m  nr.employed  \n",
       "0      4.857       5191.0  \n",
       "1      4.857       5191.0  \n",
       "2      4.857       5191.0  \n",
       "3      4.857       5191.0  \n",
       "4      4.857       5191.0  "
      ]
     },
     "execution_count": 13,
     "metadata": {},
     "output_type": "execute_result"
    }
   ],
   "source": [
    "categoricals=['job','marital','default','poutcome','campaign']\n",
    "labelencoder = LabelEncoder()\n",
    "for c in categoricals:\n",
    "    X[c]      = labelencoder.fit_transform(X[c]) \n",
    "X.head()"
   ]
  },
  {
   "cell_type": "markdown",
   "id": "f80fa436",
   "metadata": {
    "papermill": {
     "duration": 0.03311,
     "end_time": "2022-02-06T14:53:53.760478",
     "exception": false,
     "start_time": "2022-02-06T14:53:53.727368",
     "status": "completed"
    },
    "tags": []
   },
   "source": [
    "### ***9. <a id=\"9\"></a>  Imputing missing values*** "
   ]
  },
  {
   "cell_type": "code",
   "execution_count": 14,
   "id": "ab136769",
   "metadata": {
    "execution": {
     "iopub.execute_input": "2022-02-06T14:53:53.836910Z",
     "iopub.status.busy": "2022-02-06T14:53:53.836134Z",
     "iopub.status.idle": "2022-02-06T14:54:13.744367Z",
     "shell.execute_reply": "2022-02-06T14:54:13.743749Z",
     "shell.execute_reply.started": "2022-02-06T14:52:27.527614Z"
    },
    "papermill": {
     "duration": 19.948942,
     "end_time": "2022-02-06T14:54:13.744546",
     "exception": false,
     "start_time": "2022-02-06T14:53:53.795604",
     "status": "completed"
    },
    "tags": []
   },
   "outputs": [],
   "source": [
    "from sklearn.impute import KNNImputer\n",
    "imputer = KNNImputer(n_neighbors=9)\n",
    "X=pd.DataFrame(imputer.fit_transform(X),columns=X.columns)"
   ]
  },
  {
   "cell_type": "markdown",
   "id": "ec6a824f",
   "metadata": {
    "papermill": {
     "duration": 0.033678,
     "end_time": "2022-02-06T14:54:13.811166",
     "exception": false,
     "start_time": "2022-02-06T14:54:13.777488",
     "status": "completed"
    },
    "tags": []
   },
   "source": [
    "### ***10. <a id=\"10\"></a> Build, train, and test model*** "
   ]
  },
  {
   "cell_type": "code",
   "execution_count": 15,
   "id": "d27c302d",
   "metadata": {
    "execution": {
     "iopub.execute_input": "2022-02-06T14:54:13.881098Z",
     "iopub.status.busy": "2022-02-06T14:54:13.880376Z",
     "iopub.status.idle": "2022-02-06T14:54:13.897547Z",
     "shell.execute_reply": "2022-02-06T14:54:13.898183Z",
     "shell.execute_reply.started": "2022-02-06T14:52:50.066132Z"
    },
    "papermill": {
     "duration": 0.054216,
     "end_time": "2022-02-06T14:54:13.898357",
     "exception": false,
     "start_time": "2022-02-06T14:54:13.844141",
     "status": "completed"
    },
    "tags": []
   },
   "outputs": [],
   "source": [
    "seed = 42\n",
    "test_size = 0.3\n",
    "X_train, X_test, y_train, y_test = train_test_split(X, Y, test_size=test_size, random_state=seed)"
   ]
  },
  {
   "cell_type": "code",
   "execution_count": 16,
   "id": "5468cfb0",
   "metadata": {
    "execution": {
     "iopub.execute_input": "2022-02-06T14:54:13.968736Z",
     "iopub.status.busy": "2022-02-06T14:54:13.967976Z",
     "iopub.status.idle": "2022-02-06T14:54:14.184559Z",
     "shell.execute_reply": "2022-02-06T14:54:14.185108Z",
     "shell.execute_reply.started": "2022-02-06T14:52:50.088472Z"
    },
    "papermill": {
     "duration": 0.254185,
     "end_time": "2022-02-06T14:54:14.185278",
     "exception": false,
     "start_time": "2022-02-06T14:54:13.931093",
     "status": "completed"
    },
    "tags": []
   },
   "outputs": [
    {
     "name": "stdout",
     "output_type": "stream",
     "text": [
      "Accuracy: 0.9803\n",
      "\n"
     ]
    }
   ],
   "source": [
    "from sklearn import tree\n",
    "\n",
    "dtc = tree.DecisionTreeClassifier()\n",
    "dtc.fit(X_train, y_train)\n",
    "\n",
    "y_dtc_pred = dtc.predict(X_test)\n",
    "\n",
    "accuracy_dtc = accuracy_score(y_test, y_dtc_pred)\n",
    "print(\"Accuracy: {0:.4f}\".format(accuracy_dtc))\n",
    "print()\n"
   ]
  },
  {
   "cell_type": "code",
   "execution_count": 17,
   "id": "8d232618",
   "metadata": {
    "execution": {
     "iopub.execute_input": "2022-02-06T14:54:14.260047Z",
     "iopub.status.busy": "2022-02-06T14:54:14.259335Z",
     "iopub.status.idle": "2022-02-06T14:54:15.312801Z",
     "shell.execute_reply": "2022-02-06T14:54:15.313303Z",
     "shell.execute_reply.started": "2022-02-06T14:52:50.300475Z"
    },
    "papermill": {
     "duration": 1.095019,
     "end_time": "2022-02-06T14:54:15.313474",
     "exception": false,
     "start_time": "2022-02-06T14:54:14.218455",
     "status": "completed"
    },
    "tags": []
   },
   "outputs": [
    {
     "name": "stdout",
     "output_type": "stream",
     "text": [
      "Mean accuracy 0.9771383663107558\n",
      "              precision    recall  f1-score   support\n",
      "\n",
      "           0       1.00      0.96      0.98      9269\n",
      "           1       0.96      1.00      0.98      9366\n",
      "\n",
      "    accuracy                           0.98     18635\n",
      "   macro avg       0.98      0.98      0.98     18635\n",
      "weighted avg       0.98      0.98      0.98     18635\n",
      "\n"
     ]
    }
   ],
   "source": [
    "from sklearn.model_selection import cross_val_predict, cross_val_score, KFold\n",
    "from sklearn.metrics import mean_squared_error, mean_absolute_error, confusion_matrix, accuracy_score, r2_score, classification_report\n",
    "k_fold = KFold(n_splits=7, shuffle=False, random_state=None)\n",
    "print(\"Mean accuracy\",(cross_val_score(dtc, X_train, y_train, cv=k_fold, n_jobs=1, scoring = 'accuracy').mean()))\n",
    "print(classification_report(y_test, y_dtc_pred))"
   ]
  },
  {
   "cell_type": "markdown",
   "id": "e5d1109f",
   "metadata": {
    "papermill": {
     "duration": 0.033072,
     "end_time": "2022-02-06T14:54:15.379954",
     "exception": false,
     "start_time": "2022-02-06T14:54:15.346882",
     "status": "completed"
    },
    "tags": []
   },
   "source": [
    "### ***11. <a id=\"11\"></a>  features importance*** "
   ]
  },
  {
   "cell_type": "code",
   "execution_count": 18,
   "id": "e172b10e",
   "metadata": {
    "execution": {
     "iopub.execute_input": "2022-02-06T14:54:15.450808Z",
     "iopub.status.busy": "2022-02-06T14:54:15.450103Z",
     "iopub.status.idle": "2022-02-06T14:54:15.737854Z",
     "shell.execute_reply": "2022-02-06T14:54:15.738367Z",
     "shell.execute_reply.started": "2022-02-06T14:52:51.379327Z"
    },
    "papermill": {
     "duration": 0.325175,
     "end_time": "2022-02-06T14:54:15.738572",
     "exception": false,
     "start_time": "2022-02-06T14:54:15.413397",
     "status": "completed"
    },
    "tags": []
   },
   "outputs": [
    {
     "data": {
      "text/plain": [
       "Text(0.5, 0, 'Relative Importance')"
      ]
     },
     "execution_count": 18,
     "metadata": {},
     "output_type": "execute_result"
    },
    {
     "data": {
      "image/png": "[encoded data removed]",
      "text/plain": [
       "<Figure size 432x288 with 1 Axes>"
      ]
     },
     "metadata": {
      "needs_background": "light"
     },
     "output_type": "display_data"
    }
   ],
   "source": [
    "features=X.columns\n",
    "importances =dtc.feature_importances_\n",
    "indices = np.argsort(importances)\n",
    "\n",
    "plt.figure(1)\n",
    "plt.title('Feature Importances')\n",
    "plt.barh(range(len(indices)), importances[indices], color='y', align='center')\n",
    "plt.yticks(range(len(indices)), features[indices])\n",
    "plt.xlabel('Relative Importance')"
   ]
  }
 ],
 "metadata": {
  "kernelspec": {
   "display_name": "Python 3",
   "language": "python",
   "name": "python3"
  },
  "language_info": {
   "codemirror_mode": {
    "name": "ipython",
    "version": 3
   },
   "file_extension": ".py",
   "mimetype": "text/x-python",
   "name": "python",
   "nbconvert_exporter": "python",
   "pygments_lexer": "ipython3",
   "version": "3.7.12"
  },
  "papermill": {
   "default_parameters": {},
   "duration": 39.467905,
   "end_time": "2022-02-06T14:54:16.586197",
   "environment_variables": {},
   "exception": null,
   "input_path": "__notebook__.ipynb",
   "output_path": "__notebook__.ipynb",
   "parameters": {},
   "start_time": "2022-02-06T14:53:37.118292",
   "version": "2.3.3"
  }
 },
 "nbformat": 4,
 "nbformat_minor": 5
}
